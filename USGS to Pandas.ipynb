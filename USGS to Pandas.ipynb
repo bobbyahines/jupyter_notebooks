{
 "cells": [
  {
   "cell_type": "code",
   "execution_count": null,
   "metadata": {},
   "outputs": [],
   "source": []
  },
  {
   "cell_type": "code",
   "execution_count": 2,
   "metadata": {},
   "outputs": [],
   "source": [
    "import requests\n",
    "import os\n",
    "import pandas as pd\n",
    "import matplotlib.pyplot as plt\n",
    "import numpy as np\n",
    "import os\n",
    "import math\n",
    "import matplotlib.dates as mdates\n",
    "%matplotlib inline\n",
    "\n",
    "plt.ion()\n",
    "# set standard plot parameters for uniform plotting\n",
    "plt.rcParams['figure.figsize'] = (11, 6)\n",
    "# prettier plotting with seaborn"
   ]
  },
  {
   "cell_type": "code",
   "execution_count": null,
   "metadata": {},
   "outputs": [],
   "source": [
    "# Check for Instantaneous Value files and plot results"
   ]
  },
  {
   "cell_type": "code",
   "execution_count": 41,
   "metadata": {},
   "outputs": [
    {
     "name": "stdout",
     "output_type": "stream",
     "text": [
      "                                                   0\n",
      "0                # Data provided for site 08017118\\n\n",
      "1           #    TS_ID       Parameter Description\\n\n",
      "2  #    63284       00010     Temperature, water,...\n",
      "3     #    63286       00065     Gage height, feet\\n\n",
      "4  #    63285       00095     Specific conductanc...\n",
      "5  #    63290       00480     Salinity, water, un...\n",
      "6                                                #\\n\n"
     ]
    }
   ],
   "source": [
    "# # Visually check the correct file is being referenced\n",
    "iv_path = os.path.join(os.getcwd(),'iv')\n",
    "\n",
    "# for file in os.listdir(iv_path):\n",
    "#     print(file)\n",
    "\n",
    "# Find data provided by this station and assign to Pandas Frame.\n",
    "with open(file, 'r') as inf:\n",
    "    a = 0\n",
    "    station_results = []\n",
    "    for line in inf:\n",
    "        if '# Data provided' in line:\n",
    "            a = 1\n",
    "        elif 'Data-value' in line:\n",
    "            a = 0\n",
    "            \n",
    "        if a == 1:\n",
    "            station_results.append(line)\n",
    "            \n",
    "station_results = pd.DataFrame(station_results)\n",
    "print(station_results)\n",
    "\n",
    "\n",
    "# data = pd.read_csv(open(file, 'r'), sep = \"\\t\", header = 30, low_memory=False, chunksize=1000)\n",
    "# data.set_index('datetime', inplace = True)\n",
    "\n",
    "# wl = '63286_00065'\n",
    "\n",
    "# #Remove row that doesn't have values\n",
    "# data.drop(['20d'], axis=0, inplace=True)\n",
    "\n",
    "# #Reset Index\n",
    "# data.reset_index(inplace = True)\n",
    "\n",
    "# #Remove rows with NAN.\n",
    "# data.dropna(subset=[wl], inplace = True)\n",
    "\n",
    "# data['datetime'] = pd.to_datetime(data['datetime'])\n",
    "# data = data.set_index('datetime')\n",
    "\n",
    "# data['63286_00065'] = pd.to_numeric(data['63286_00065'])\n",
    "\n",
    "# print(data.head())\n",
    "# print(data.tail())"
   ]
  },
  {
   "cell_type": "code",
   "execution_count": null,
   "metadata": {},
   "outputs": [],
   "source": []
  }
 ],
 "metadata": {
  "kernelspec": {
   "display_name": "Python 3",
   "language": "python",
   "name": "python3"
  },
  "language_info": {
   "codemirror_mode": {
    "name": "ipython",
    "version": 3
   },
   "file_extension": ".py",
   "mimetype": "text/x-python",
   "name": "python",
   "nbconvert_exporter": "python",
   "pygments_lexer": "ipython3",
   "version": "3.6.8"
  }
 },
 "nbformat": 4,
 "nbformat_minor": 2
}
