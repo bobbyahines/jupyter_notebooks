{
 "cells": [
  {
   "cell_type": "markdown",
   "metadata": {},
   "source": [
    "# Volkert Image GOES HERE\n"
   ]
  },
  {
   "cell_type": "markdown",
   "metadata": {},
   "source": [
    "# Stone Armor Layers on Non- and Marginally Overtopped Structures\n",
    "\n",
    "Reference: 2007, CIRIA. Rock Manual - The Use of Rock in Hydrailc Engineering. 2nd Edition. CIRIA C683\n",
    "Section 5.2.2.2\n",
    "\n",
    "### Hudson Method\n",
    "\n",
    "The Hudson method was devled by testing regular waves on non-overtopped structures with a permeable core. Two conditions exist for applicablity of this method.\n",
    "- non-breaking waves on the foreshore (deep water)\n",
    "- breaking waves on foreshore (depth-limited waves)\n",
    "\n",
    "\n",
    "## Stone Armor Sizing Equations\n",
    "<table style=\"width:100%\">\n",
    "    <tr><th>Equation</th><th>Source</th></tr>\n",
    "    <tr>\n",
    "        <td>$W_{50}=\\dfrac{\\rho_r*H^{3}}{(K_D*\\Delta^{3}*cot(\\alpha))}$</td>\n",
    "        <td>Rock Manual - Eq. 5.133</td>\n",
    "    </tr>\n",
    "    <tr>\n",
    "        <td>$\\Delta=\\rho_r/\\rho_w-1$</td>\n",
    "        <td>Rock Manual - Eq. 5.137</td>\n",
    "    </tr>    \n",
    "</table>\n",
    "                     \n",
    "_Note: Gravity was removed from the equation to calculate mass of median stone_\n",
    "\n",
    "## Table 1: Variable Definition\n",
    "<table>\n",
    "    <tr>\n",
    "        <th>Variable</th>\n",
    "        <th>Description</th>\n",
    "        <th>Metric Value [units]</th>\n",
    "        <th>Calculation Variable</th>\n",
    "    </tr>\n",
    "    <tr>\n",
    "        <td>$W_{50}$</td>\n",
    "        <td>median stone mass/weight</td>\n",
    "        <td>calculated value [$kg$]</td>\n",
    "    </tr>\n",
    "    <tr>\n",
    "        <td>$\\rho_r$</td>\n",
    "        <td>density of stone</td>\n",
    "        <td>See Table 2 [$kg/m^3$]</td>\n",
    "    </tr>\n",
    "    <tr>\n",
    "        <td>$\\rho_w$</td>\n",
    "        <td>density of water</td>\n",
    "        <td>See Table 2 [$kg/m^3$]</td>\n",
    "    </tr>\n",
    "    <tr>\n",
    "        <td>$H_{1/10}$</td>\n",
    "        <td>10% wave height (i.e., $1.27*H_s$)</td>\n",
    "        <td>varies [$m$]</td>\n",
    "    </tr>\n",
    "    <tr>\n",
    "        <td>$K_D$</td>\n",
    "        <td>damage coefficient</td>\n",
    "        <td>See Table 3 [no units]</td>\n",
    "    </tr>\n",
    "    <tr>\n",
    "        <td>$\\Delta$</td>\n",
    "        <td>relative buoyant density of stone</td>\n",
    "        <td>See Equation above</td>\n",
    "    </tr>\n",
    "    <tr>\n",
    "        <td>$cot(\\alpha)$</td>\n",
    "        <td>slope of stone armor</td>\n",
    "        <td>varies [Horizontal/Vertical]</td>\n",
    "    </tr>\n",
    "</table>\n",
    "    \n",
    "    \n",
    "    \n",
    "## Table 2: Standard Densities\n",
    "<table>\n",
    "  <tr>\n",
    "    <th>Material</th>\n",
    "    <th>Standard $(lb/ft^{3})$</th>\n",
    "    <th>Metric $(kg/m^{3})$</th> \n",
    "  </tr>\n",
    "  <tr>\n",
    "    <td>Fresh Water</td>\n",
    "    <td>62.4</td> \n",
    "    <td>1,000</td>\n",
    "  </tr>\n",
    "  <tr>\n",
    "    <td>Seawater</td>\n",
    "    <td>64</td> \n",
    "    <td>1,025</td>\n",
    "  </tr>\n",
    "    <tr>\n",
    "    <td>Stone (Basalt)</td>\n",
    "    <td>174.8 - 187.3</td> \n",
    "    <td>2,800 - 3,000</td>\n",
    "  </tr>\n",
    "</table>\n",
    "\n",
    "\n",
    "## Table 3: Hudson Stabilty Coefficient ($K_D$)\n",
    "<table>\n",
    "  <tr>\n",
    "    <th>Wave Type</th>\n",
    "    <th>$K_D$</th>\n",
    "  </tr>\n",
    "  <tr>\n",
    "    <td>Breaking</td>\n",
    "    <td>2.0</td> \n",
    "  </tr>\n",
    "  <tr>\n",
    "    <td>Non-Breaking</td>\n",
    "    <td>4.0</td> \n",
    "  </tr>\n",
    "</table>"
   ]
  },
  {
   "cell_type": "code",
   "execution_count": null,
   "metadata": {},
   "outputs": [],
   "source": []
  },
  {
   "cell_type": "code",
   "execution_count": 1,
   "metadata": {},
   "outputs": [
    {
     "name": "stdout",
     "output_type": "stream",
     "text": [
      "Calcualted median stone weight of 113.73348576880839 kg, for H_10 of 1.5 m.\n",
      "Calcualted median stone weight of 269.5904847853236 kg, for H_10 of 2 m.\n",
      "Calcualted median stone weight of 7278.943089203737 kg, for H_10 of 6 m.\n"
     ]
    }
   ],
   "source": [
    "from mpmath import cot\n",
    "\n",
    "rho_r = 2800\n",
    "rho_w = 1025\n",
    "H_10 = [1.5, 2, 6]\n",
    "KD = 4\n",
    "Delta = (rho_r/rho_w)-1\n",
    "cot_alpha = 4/1\n",
    "\n",
    "#Note: '**' is equivalent to '^'\n",
    "for H_10 in H_10:\n",
    "    W_50 = rho_r*H_10**3/(4*Delta**3*cot_alpha)\n",
    "    print('Calcualted median stone weight of', W_50, 'kg, for H_10 of', H_10, 'm.')\n",
    "\n"
   ]
  },
  {
   "cell_type": "code",
   "execution_count": 29,
   "metadata": {},
   "outputs": [
    {
     "name": "stdout",
     "output_type": "stream",
     "text": [
      "Calcualted median stone weight of 222.6237988594063 lbs, for H_10 of 4.92 ft.\n",
      "Calcualted median stone weight of 527.7008565556296 lbs, for H_10 of 6.56 ft.\n"
     ]
    }
   ],
   "source": [
    "from mpmath import cot\n",
    "\n",
    "rho_r = 174.8\n",
    "rho_w = 62.4\n",
    "H_10 = [1.5*3.28, 2*3.28]\n",
    "KD = 4\n",
    "Delta = (rho_r/rho_w)-1\n",
    "cot_alpha = 4/1\n",
    "\n",
    "#Note: '**' is equivalent to '^'\n",
    "for H_10 in H_10:\n",
    "    W_50 = (rho_r*(H_10**3))/(4*(Delta**3)*cot_alpha)\n",
    "    print('Calcualted median stone weight of', W_50, 'lbs, for H_10 of', H_10, 'ft.')"
   ]
  },
  {
   "cell_type": "code",
   "execution_count": null,
   "metadata": {},
   "outputs": [],
   "source": []
  },
  {
   "cell_type": "code",
   "execution_count": null,
   "metadata": {},
   "outputs": [],
   "source": []
  }
 ],
 "metadata": {
  "kernelspec": {
   "display_name": "Python 3",
   "language": "python",
   "name": "python3"
  },
  "language_info": {
   "codemirror_mode": {
    "name": "ipython",
    "version": 3
   },
   "file_extension": ".py",
   "mimetype": "text/x-python",
   "name": "python",
   "nbconvert_exporter": "python",
   "pygments_lexer": "ipython3",
   "version": "3.6.5"
  }
 },
 "nbformat": 4,
 "nbformat_minor": 2
}
